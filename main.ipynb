{
 "cells": [
  {
   "cell_type": "code",
   "execution_count": null,
   "id": "7035c1fb",
   "metadata": {},
   "outputs": [],
   "source": [
    "from dotenv import load_dotenv\n",
    "import os\n",
    "\n",
    "load_dotenv()\n",
    "\n",
    "from load_pdfs import load_pdfs\n",
    "from preprocessing import preprocess_documents\n",
    "from retrievers import build_retrievers, get_retriever_for_query\n",
    "from llm_model import get_llm\n",
    "from unified_ask import ask_unified\n",
    "from printers import print_sources\n",
    "\n",
    "print(\"Starting pipeline...\")\n",
    "docs = load_pdfs()\n",
    "db, split_docs = preprocess_documents(docs)\n",
    "\n",
    "bm25, vec, hybrid = build_retrievers(db, split_docs)\n",
    "llm = get_llm()"
   ]
  },
  {
   "cell_type": "code",
   "execution_count": null,
   "id": "6aafee90",
   "metadata": {},
   "outputs": [],
   "source": [
    "# UC 1: Find the CAPP final report from 2024\n",
    "start = time.perf_counter()\n",
    "question = \"Find the CAPP final report from 2024.\"\n",
    "retr = get_retriever_for_query(question, db, bm25, hybrid)\n",
    "\n",
    "result = ask_unified(question, llm, retr)\n",
    "print(\"\\nResponse:\\n\", result.get(\"answer\", \"\"))\n",
    "print_sources(result)\n",
    "print(f\"UC: {time.perf_counter() - start:,.1f}s\")"
   ]
  },
  {
   "cell_type": "code",
   "execution_count": null,
   "id": "fd9be526",
   "metadata": {},
   "outputs": [],
   "source": [
    "# UC 2: Summarize CAPP final report\n",
    "start = time.perf_counter()\n",
    "question = \"Summarize the CAPP final report from 2024\"\n",
    "retr = get_retriever_for_query(question, db, bm25, hybrid)\n",
    "result = ask_unified(question, llm, retr)\n",
    "\n",
    "print(\"\\n--- UC2: Summarize Particular Documents ---\\n\")\n",
    "print(\"Response:\\n\", result.get(\"answer\", \"\"))\n",
    "print_sources(result)\n",
    "print(f\"UC: {time.perf_counter() - start:,.1f}s\")"
   ]
  },
  {
   "cell_type": "code",
   "execution_count": null,
   "id": "e2543d99",
   "metadata": {},
   "outputs": [],
   "source": [
    "# UC 3: Find Documents by Contents\n",
    "start = time.perf_counter()\n",
    "question = \"Find documents related to system executive policies on AI\"\n",
    "retr = get_retriever_for_query(question, db, bm25, hybrid)\n",
    "result = ask_unified(question, llm, retr)\n",
    "\n",
    "print(\"\\n--- UC3: Find Documents by Contents ---\\n\")\n",
    "print(\"Response:\\n\", result.get(\"answer\", \"\"))\n",
    "print_sources(result)\n",
    "print(f\"UC: {time.perf_counter() - start:,.1f}s\")"
   ]
  },
  {
   "cell_type": "code",
   "execution_count": null,
   "id": "ca582687",
   "metadata": {},
   "outputs": [],
   "source": [
    "# UC 4: Finding Particular Information\n",
    "start = time.perf_counter()\n",
    "question = \"When were votes on AI policies conducted?\"\n",
    "retr = get_retriever_for_query(question, db, bm25, hybrid)\n",
    "result = ask_unified(question, llm, retr)\n",
    "\n",
    "print(\"\\n--- UC4: Finding Particular Information ---\\n\")\n",
    "print(\"Response:\\n\", result.get(\"answer\", \"\"))\n",
    "print_sources(result)\n",
    "print(f\"UC: {time.perf_counter() - start:,.1f}s\")"
   ]
  },
  {
   "cell_type": "code",
   "execution_count": null,
   "id": "52ccdb5a",
   "metadata": {},
   "outputs": [],
   "source": [
    "# UC 5: Finding Related Information\n",
    "start = time.perf_counter()\n",
    "question = \"Show me the history of resolutions on GE\"\n",
    "retr = get_retriever_for_query(question, db, bm25, hybrid)\n",
    "result = ask_unified(question, llm, retr)\n",
    "\n",
    "print(\"\\n--- UC5: Finding Related Information ---\\n\")\n",
    "print(\"Response:\\n\", result.get(\"answer\", \"\"))\n",
    "print_sources(result)\n",
    "print(f\"UC: {time.perf_counter() - start:,.1f}s\")"
   ]
  },
  {
   "cell_type": "code",
   "execution_count": null,
   "id": "28f2abe4",
   "metadata": {},
   "outputs": [],
   "source": [
    "# UC 6: Refinement of Found Information\n",
    "start = time.perf_counter()\n",
    "question = \"In the history of resolutions you showed me, which ones are supportive or opposing GE reforms?\"\n",
    "retr = get_retriever_for_query(question, db, bm25, hybrid)\n",
    "result = ask_unified(question, llm, retr)\n",
    "\n",
    "print(\"\\n--- UC6: Refinement of Found Information ---\\n\")\n",
    "print(\"Response:\\n\", result.get(\"answer\", \"\"))\n",
    "print_sources(result)\n",
    "print(f\"UC: {time.perf_counter() - start:,.1f}s\")"
   ]
  }
 ],
 "metadata": {
  "kernelspec": {
   "display_name": "rag_workshop_env",
   "language": "python",
   "name": "python3"
  },
  "language_info": {
   "codemirror_mode": {
    "name": "ipython",
    "version": 3
   },
   "file_extension": ".py",
   "mimetype": "text/x-python",
   "name": "python",
   "nbconvert_exporter": "python",
   "pygments_lexer": "ipython3",
   "version": "3.11.13"
  }
 },
 "nbformat": 4,
 "nbformat_minor": 5
}
